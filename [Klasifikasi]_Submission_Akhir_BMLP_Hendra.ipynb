{
 "cells": [
  {
   "cell_type": "markdown",
   "metadata": {
    "id": "fKADPWcFKlj3"
   },
   "source": [
    "# **1. Import Library**"
   ]
  },
  {
   "cell_type": "markdown",
   "metadata": {
    "id": "LgA3ERnVn84N"
   },
   "source": [
    "Pada tahap ini, Anda perlu mengimpor beberapa pustaka (library) Python yang dibutuhkan untuk analisis data dan pembangunan model machine learning."
   ]
  },
  {
   "cell_type": "code",
   "execution_count": 1465,
   "metadata": {},
   "outputs": [
    {
     "name": "stdout",
     "output_type": "stream",
     "text": [
      "Requirement already satisfied: pandas in c:\\users\\hendr\\anaconda3\\lib\\site-packages (2.2.2)\n",
      "Requirement already satisfied: numpy in c:\\users\\hendr\\anaconda3\\lib\\site-packages (1.26.4)\n",
      "Requirement already satisfied: matplotlib in c:\\users\\hendr\\anaconda3\\lib\\site-packages (3.9.2)\n",
      "Requirement already satisfied: seaborn in c:\\users\\hendr\\anaconda3\\lib\\site-packages (0.13.2)\n",
      "Requirement already satisfied: scikit-learn in c:\\users\\hendr\\anaconda3\\lib\\site-packages (1.5.1)\n",
      "Requirement already satisfied: python-dateutil>=2.8.2 in c:\\users\\hendr\\appdata\\roaming\\python\\python312\\site-packages (from pandas) (2.9.0.post0)\n",
      "Requirement already satisfied: pytz>=2020.1 in c:\\users\\hendr\\anaconda3\\lib\\site-packages (from pandas) (2024.1)\n",
      "Requirement already satisfied: tzdata>=2022.7 in c:\\users\\hendr\\anaconda3\\lib\\site-packages (from pandas) (2023.3)\n",
      "Requirement already satisfied: contourpy>=1.0.1 in c:\\users\\hendr\\anaconda3\\lib\\site-packages (from matplotlib) (1.2.0)\n",
      "Requirement already satisfied: cycler>=0.10 in c:\\users\\hendr\\anaconda3\\lib\\site-packages (from matplotlib) (0.11.0)\n",
      "Requirement already satisfied: fonttools>=4.22.0 in c:\\users\\hendr\\anaconda3\\lib\\site-packages (from matplotlib) (4.51.0)\n",
      "Requirement already satisfied: kiwisolver>=1.3.1 in c:\\users\\hendr\\anaconda3\\lib\\site-packages (from matplotlib) (1.4.4)\n",
      "Requirement already satisfied: packaging>=20.0 in c:\\users\\hendr\\appdata\\roaming\\python\\python312\\site-packages (from matplotlib) (23.2)\n",
      "Requirement already satisfied: pillow>=8 in c:\\users\\hendr\\anaconda3\\lib\\site-packages (from matplotlib) (10.4.0)\n",
      "Requirement already satisfied: pyparsing>=2.3.1 in c:\\users\\hendr\\anaconda3\\lib\\site-packages (from matplotlib) (3.1.2)\n",
      "Requirement already satisfied: scipy>=1.6.0 in c:\\users\\hendr\\anaconda3\\lib\\site-packages (from scikit-learn) (1.13.1)\n",
      "Requirement already satisfied: joblib>=1.2.0 in c:\\users\\hendr\\anaconda3\\lib\\site-packages (from scikit-learn) (1.4.2)\n",
      "Requirement already satisfied: threadpoolctl>=3.1.0 in c:\\users\\hendr\\anaconda3\\lib\\site-packages (from scikit-learn) (3.5.0)\n",
      "Requirement already satisfied: six>=1.5 in c:\\users\\hendr\\appdata\\roaming\\python\\python312\\site-packages (from python-dateutil>=2.8.2->pandas) (1.16.0)\n",
      "Note: you may need to restart the kernel to use updated packages.\n"
     ]
    }
   ],
   "source": [
    "pip install pandas numpy matplotlib seaborn scikit-learn"
   ]
  },
  {
   "cell_type": "code",
   "execution_count": 1466,
   "metadata": {
    "id": "BlmvjLY9M4Yj"
   },
   "outputs": [],
   "source": [
    "import pandas as pd\n",
    "from sklearn.model_selection import train_test_split\n",
    "from sklearn.ensemble import RandomForestClassifier\n",
    "from sklearn.pipeline import Pipeline\n",
    "from sklearn.compose import ColumnTransformer\n",
    "from sklearn.impute import SimpleImputer\n",
    "from sklearn.preprocessing import OneHotEncoder\n",
    "from sklearn.model_selection import GridSearchCV\n",
    "from sklearn.ensemble import RandomForestClassifier\n",
    "from sklearn.model_selection import train_test_split\n",
    "from sklearn.preprocessing import LabelEncoder, OneHotEncoder\n",
    "from sklearn.ensemble import RandomForestClassifier\n",
    "from sklearn.linear_model import LogisticRegression\n",
    "from sklearn.svm import SVC\n",
    "from sklearn.metrics import accuracy_score, f1_score, confusion_matrix"
   ]
  },
  {
   "cell_type": "code",
   "execution_count": 1467,
   "metadata": {},
   "outputs": [],
   "source": [
    "cluster_dataset = './clean/data-science-jobs-salaries-clean.csv'"
   ]
  },
  {
   "cell_type": "markdown",
   "metadata": {
    "id": "f3YIEnAFKrKL"
   },
   "source": [
    "# **2. Memuat Dataset dari Hasil Clustering**"
   ]
  },
  {
   "cell_type": "markdown",
   "metadata": {
    "id": "Ey3ItwTen_7E"
   },
   "source": [
    "Memuat dataset hasil clustering dari file CSV ke dalam variabel DataFrame."
   ]
  },
  {
   "cell_type": "code",
   "execution_count": 1470,
   "metadata": {
    "id": "GHCGNTyrM5fS"
   },
   "outputs": [
    {
     "name": "stdout",
     "output_type": "stream",
     "text": [
      "   work_year  salary  salary_in_usd  job_title_Data Analyst  (Remote)  \\\n",
      "0       2022  186597         136086                             False   \n",
      "1       2020  110630          67982                             False   \n",
      "2       2022   61280         153309                             False   \n",
      "3       2022  154130         135242                             False   \n",
      "4       2020  172312          35156                             False   \n",
      "\n",
      "   job_title_Data Analyst  in office  job_title_Data Engineer    \\\n",
      "0                              False                      False   \n",
      "1                              False                      False   \n",
      "2                              False                      False   \n",
      "3                               True                      False   \n",
      "4                              False                      False   \n",
      "\n",
      "   job_title_Data Engineer  (Remote)  job_title_Data Engineer  in office  \\\n",
      "0                              False                               False   \n",
      "1                              False                               False   \n",
      "2                              False                               False   \n",
      "3                              False                               False   \n",
      "4                              False                               False   \n",
      "\n",
      "   job_title_Data Scientist    job_title_Data Scientist  (Remote)  ...  \\\n",
      "0                       False                               False  ...   \n",
      "1                       False                               False  ...   \n",
      "2                       False                               False  ...   \n",
      "3                       False                               False  ...   \n",
      "4                       False                               False  ...   \n",
      "\n",
      "   company_location_DE  company_location_IN  company_location_JP  \\\n",
      "0                 True                False                False   \n",
      "1                False                 True                False   \n",
      "2                False                False                False   \n",
      "3                False                False                False   \n",
      "4                False                False                False   \n",
      "\n",
      "   company_location_MX  company_location_UK  company_location_US  \\\n",
      "0                False                False                False   \n",
      "1                False                False                False   \n",
      "2                False                False                False   \n",
      "3                 True                False                False   \n",
      "4                False                 True                False   \n",
      "\n",
      "   company_size_M  company_size_S  salary_category  Cluster  \n",
      "0           False           False             High        0  \n",
      "1            True           False           Medium        2  \n",
      "2           False           False        Very High        0  \n",
      "3           False           False             High        0  \n",
      "4           False            True              Low        1  \n",
      "\n",
      "[5 rows x 48 columns]\n"
     ]
    }
   ],
   "source": [
    "# **2. Memuat Dataset Hasil Clustering**\n",
    "df = pd.read_csv(cluster_dataset)\n",
    "print(df.head())"
   ]
  },
  {
   "cell_type": "markdown",
   "metadata": {
    "id": "KkPem5eWL2UP"
   },
   "source": [
    "# **3. Data Splitting**"
   ]
  },
  {
   "cell_type": "markdown",
   "metadata": {
    "id": "YYj1rl_JNI9Y"
   },
   "source": [
    "Tahap Data Splitting bertujuan untuk memisahkan dataset menjadi dua bagian: data latih (training set) dan data uji (test set)."
   ]
  },
  {
   "cell_type": "code",
   "execution_count": 1473,
   "metadata": {},
   "outputs": [],
   "source": [
    "# Handle categorical data: encoding categorical columns\n",
    "def preprocessData(df):\n",
    "    for col in df.select_dtypes(include=['object']).columns:\n",
    "        if col == 'cluster':\n",
    "            le = LabelEncoder()\n",
    "            df[col] = le.fit_transform(df[col])\n",
    "        else:\n",
    "            df = pd.get_dummies(df, columns=[col], drop_first=True)\n",
    "    return df"
   ]
  },
  {
   "cell_type": "code",
   "execution_count": 1474,
   "metadata": {
    "id": "OubAW-7ONKVj"
   },
   "outputs": [],
   "source": [
    "# **3. Data Splitting**\n",
    "# Membagi dataset menjadi data latih dan uji\n",
    "\n",
    "df = preprocessData(df)\n",
    "\n",
    "X = df.drop(columns=['Cluster'])\n",
    "y = df['Cluster']\n",
    "\n",
    "X_train, X_test, y_train, y_test = train_test_split(X, y, test_size=0.2, random_state=42)"
   ]
  },
  {
   "cell_type": "markdown",
   "metadata": {
    "id": "IVPbB03CMhTT"
   },
   "source": [
    "# **4. Membangun Model Klasifikasi**\n"
   ]
  },
  {
   "cell_type": "markdown",
   "metadata": {
    "id": "Ned1pL9zMmBK"
   },
   "source": [
    "## **a. Membangun Model Klasifikasi**"
   ]
  },
  {
   "cell_type": "markdown",
   "metadata": {
    "id": "WAWzPOE4Nkti"
   },
   "source": [
    "Setelah memilih algoritma klasifikasi yang sesuai, langkah selanjutnya adalah melatih model menggunakan data latih.\n",
    "\n",
    "Berikut adalah rekomendasi tahapannya.\n",
    "1. Pilih algoritma klasifikasi yang sesuai, seperti Logistic Regression, Decision Tree, Random Forest, atau K-Nearest Neighbors (KNN).\n",
    "2. Latih model menggunakan data latih."
   ]
  },
  {
   "cell_type": "code",
   "execution_count": 1478,
   "metadata": {},
   "outputs": [
    {
     "name": "stdout",
     "output_type": "stream",
     "text": [
      "work_year                                         0\n",
      "salary                                            0\n",
      "salary_in_usd                                     0\n",
      "job_title_Data Analyst  (Remote)                  0\n",
      "job_title_Data Analyst  in office                 0\n",
      "job_title_Data Engineer                           0\n",
      "job_title_Data Engineer  (Remote)                 0\n",
      "job_title_Data Engineer  in office                0\n",
      "job_title_Data Scientist                          0\n",
      "job_title_Data Scientist  (Remote)                0\n",
      "job_title_Data Scientist  in office               0\n",
      "job_title_Machine Learning Engineer               0\n",
      "job_title_Machine Learning Engineer  (Remote)     0\n",
      "job_title_Machine Learning Engineer  in office    0\n",
      "job_title_Statistician                            0\n",
      "job_title_Statistician  (Remote)                  0\n",
      "job_title_Statistician  in office                 0\n",
      "job_category_Data Science                         0\n",
      "job_category_Engineering                          0\n",
      "job_category_ML/AI                                0\n",
      "salary_currency_GBP                               0\n",
      "salary_currency_INR                               0\n",
      "salary_currency_JPY                               0\n",
      "salary_currency_us dolars                         0\n",
      "employee_residence_DE                             0\n",
      "employee_residence_IN                             0\n",
      "employee_residence_JP                             0\n",
      "employee_residence_MX                             0\n",
      "employee_residence_UK                             0\n",
      "employee_residence_US                             0\n",
      "experience_level_EX                               0\n",
      "experience_level_MI                               0\n",
      "experience_level_SE                               0\n",
      "employment_type_FL                                0\n",
      "employment_type_FT                                0\n",
      "employment_type_PT                                0\n",
      "work_setting_In-person                            0\n",
      "work_setting_Remote                               0\n",
      "company_location_DE                               0\n",
      "company_location_IN                               0\n",
      "company_location_JP                               0\n",
      "company_location_MX                               0\n",
      "company_location_UK                               0\n",
      "company_location_US                               0\n",
      "company_size_M                                    0\n",
      "company_size_S                                    0\n",
      "salary_category_Low                               0\n",
      "salary_category_Medium                            0\n",
      "salary_category_Very High                         0\n",
      "dtype: int64\n"
     ]
    }
   ],
   "source": [
    "# Memeriksa data kosong pada dataset cluster\n",
    "print(X_train.isnull().sum())"
   ]
  },
  {
   "cell_type": "code",
   "execution_count": 1479,
   "metadata": {},
   "outputs": [
    {
     "name": "stdout",
     "output_type": "stream",
     "text": [
      "0\n"
     ]
    }
   ],
   "source": [
    "print(y_train.isnull().sum())"
   ]
  },
  {
   "cell_type": "code",
   "execution_count": 1480,
   "metadata": {
    "id": "4JYxBe87NLDk"
   },
   "outputs": [],
   "source": [
    "# Mendeteksi kolom kategorikal dan numerik\n",
    "categorical_cols = X.select_dtypes(include=['object']).columns.tolist()\n",
    "numerical_cols = X.select_dtypes(exclude=['object']).columns.tolist()"
   ]
  },
  {
   "cell_type": "code",
   "execution_count": 1481,
   "metadata": {},
   "outputs": [],
   "source": [
    "# Membuat transformasi kolom kategorikal\n",
    "preprocessor = ColumnTransformer(\n",
    "    transformers=[\n",
    "        ('num', SimpleImputer(strategy='mean'), numerical_cols),\n",
    "        ('cat', OneHotEncoder(), categorical_cols)\n",
    "    ]\n",
    ")"
   ]
  },
  {
   "cell_type": "code",
   "execution_count": 1482,
   "metadata": {},
   "outputs": [
    {
     "data": {
      "text/html": [
       "<style>#sk-container-id-37 {\n",
       "  /* Definition of color scheme common for light and dark mode */\n",
       "  --sklearn-color-text: black;\n",
       "  --sklearn-color-line: gray;\n",
       "  /* Definition of color scheme for unfitted estimators */\n",
       "  --sklearn-color-unfitted-level-0: #fff5e6;\n",
       "  --sklearn-color-unfitted-level-1: #f6e4d2;\n",
       "  --sklearn-color-unfitted-level-2: #ffe0b3;\n",
       "  --sklearn-color-unfitted-level-3: chocolate;\n",
       "  /* Definition of color scheme for fitted estimators */\n",
       "  --sklearn-color-fitted-level-0: #f0f8ff;\n",
       "  --sklearn-color-fitted-level-1: #d4ebff;\n",
       "  --sklearn-color-fitted-level-2: #b3dbfd;\n",
       "  --sklearn-color-fitted-level-3: cornflowerblue;\n",
       "\n",
       "  /* Specific color for light theme */\n",
       "  --sklearn-color-text-on-default-background: var(--sg-text-color, var(--theme-code-foreground, var(--jp-content-font-color1, black)));\n",
       "  --sklearn-color-background: var(--sg-background-color, var(--theme-background, var(--jp-layout-color0, white)));\n",
       "  --sklearn-color-border-box: var(--sg-text-color, var(--theme-code-foreground, var(--jp-content-font-color1, black)));\n",
       "  --sklearn-color-icon: #696969;\n",
       "\n",
       "  @media (prefers-color-scheme: dark) {\n",
       "    /* Redefinition of color scheme for dark theme */\n",
       "    --sklearn-color-text-on-default-background: var(--sg-text-color, var(--theme-code-foreground, var(--jp-content-font-color1, white)));\n",
       "    --sklearn-color-background: var(--sg-background-color, var(--theme-background, var(--jp-layout-color0, #111)));\n",
       "    --sklearn-color-border-box: var(--sg-text-color, var(--theme-code-foreground, var(--jp-content-font-color1, white)));\n",
       "    --sklearn-color-icon: #878787;\n",
       "  }\n",
       "}\n",
       "\n",
       "#sk-container-id-37 {\n",
       "  color: var(--sklearn-color-text);\n",
       "}\n",
       "\n",
       "#sk-container-id-37 pre {\n",
       "  padding: 0;\n",
       "}\n",
       "\n",
       "#sk-container-id-37 input.sk-hidden--visually {\n",
       "  border: 0;\n",
       "  clip: rect(1px 1px 1px 1px);\n",
       "  clip: rect(1px, 1px, 1px, 1px);\n",
       "  height: 1px;\n",
       "  margin: -1px;\n",
       "  overflow: hidden;\n",
       "  padding: 0;\n",
       "  position: absolute;\n",
       "  width: 1px;\n",
       "}\n",
       "\n",
       "#sk-container-id-37 div.sk-dashed-wrapped {\n",
       "  border: 1px dashed var(--sklearn-color-line);\n",
       "  margin: 0 0.4em 0.5em 0.4em;\n",
       "  box-sizing: border-box;\n",
       "  padding-bottom: 0.4em;\n",
       "  background-color: var(--sklearn-color-background);\n",
       "}\n",
       "\n",
       "#sk-container-id-37 div.sk-container {\n",
       "  /* jupyter's `normalize.less` sets `[hidden] { display: none; }`\n",
       "     but bootstrap.min.css set `[hidden] { display: none !important; }`\n",
       "     so we also need the `!important` here to be able to override the\n",
       "     default hidden behavior on the sphinx rendered scikit-learn.org.\n",
       "     See: https://github.com/scikit-learn/scikit-learn/issues/21755 */\n",
       "  display: inline-block !important;\n",
       "  position: relative;\n",
       "}\n",
       "\n",
       "#sk-container-id-37 div.sk-text-repr-fallback {\n",
       "  display: none;\n",
       "}\n",
       "\n",
       "div.sk-parallel-item,\n",
       "div.sk-serial,\n",
       "div.sk-item {\n",
       "  /* draw centered vertical line to link estimators */\n",
       "  background-image: linear-gradient(var(--sklearn-color-text-on-default-background), var(--sklearn-color-text-on-default-background));\n",
       "  background-size: 2px 100%;\n",
       "  background-repeat: no-repeat;\n",
       "  background-position: center center;\n",
       "}\n",
       "\n",
       "/* Parallel-specific style estimator block */\n",
       "\n",
       "#sk-container-id-37 div.sk-parallel-item::after {\n",
       "  content: \"\";\n",
       "  width: 100%;\n",
       "  border-bottom: 2px solid var(--sklearn-color-text-on-default-background);\n",
       "  flex-grow: 1;\n",
       "}\n",
       "\n",
       "#sk-container-id-37 div.sk-parallel {\n",
       "  display: flex;\n",
       "  align-items: stretch;\n",
       "  justify-content: center;\n",
       "  background-color: var(--sklearn-color-background);\n",
       "  position: relative;\n",
       "}\n",
       "\n",
       "#sk-container-id-37 div.sk-parallel-item {\n",
       "  display: flex;\n",
       "  flex-direction: column;\n",
       "}\n",
       "\n",
       "#sk-container-id-37 div.sk-parallel-item:first-child::after {\n",
       "  align-self: flex-end;\n",
       "  width: 50%;\n",
       "}\n",
       "\n",
       "#sk-container-id-37 div.sk-parallel-item:last-child::after {\n",
       "  align-self: flex-start;\n",
       "  width: 50%;\n",
       "}\n",
       "\n",
       "#sk-container-id-37 div.sk-parallel-item:only-child::after {\n",
       "  width: 0;\n",
       "}\n",
       "\n",
       "/* Serial-specific style estimator block */\n",
       "\n",
       "#sk-container-id-37 div.sk-serial {\n",
       "  display: flex;\n",
       "  flex-direction: column;\n",
       "  align-items: center;\n",
       "  background-color: var(--sklearn-color-background);\n",
       "  padding-right: 1em;\n",
       "  padding-left: 1em;\n",
       "}\n",
       "\n",
       "\n",
       "/* Toggleable style: style used for estimator/Pipeline/ColumnTransformer box that is\n",
       "clickable and can be expanded/collapsed.\n",
       "- Pipeline and ColumnTransformer use this feature and define the default style\n",
       "- Estimators will overwrite some part of the style using the `sk-estimator` class\n",
       "*/\n",
       "\n",
       "/* Pipeline and ColumnTransformer style (default) */\n",
       "\n",
       "#sk-container-id-37 div.sk-toggleable {\n",
       "  /* Default theme specific background. It is overwritten whether we have a\n",
       "  specific estimator or a Pipeline/ColumnTransformer */\n",
       "  background-color: var(--sklearn-color-background);\n",
       "}\n",
       "\n",
       "/* Toggleable label */\n",
       "#sk-container-id-37 label.sk-toggleable__label {\n",
       "  cursor: pointer;\n",
       "  display: block;\n",
       "  width: 100%;\n",
       "  margin-bottom: 0;\n",
       "  padding: 0.5em;\n",
       "  box-sizing: border-box;\n",
       "  text-align: center;\n",
       "}\n",
       "\n",
       "#sk-container-id-37 label.sk-toggleable__label-arrow:before {\n",
       "  /* Arrow on the left of the label */\n",
       "  content: \"▸\";\n",
       "  float: left;\n",
       "  margin-right: 0.25em;\n",
       "  color: var(--sklearn-color-icon);\n",
       "}\n",
       "\n",
       "#sk-container-id-37 label.sk-toggleable__label-arrow:hover:before {\n",
       "  color: var(--sklearn-color-text);\n",
       "}\n",
       "\n",
       "/* Toggleable content - dropdown */\n",
       "\n",
       "#sk-container-id-37 div.sk-toggleable__content {\n",
       "  max-height: 0;\n",
       "  max-width: 0;\n",
       "  overflow: hidden;\n",
       "  text-align: left;\n",
       "  /* unfitted */\n",
       "  background-color: var(--sklearn-color-unfitted-level-0);\n",
       "}\n",
       "\n",
       "#sk-container-id-37 div.sk-toggleable__content.fitted {\n",
       "  /* fitted */\n",
       "  background-color: var(--sklearn-color-fitted-level-0);\n",
       "}\n",
       "\n",
       "#sk-container-id-37 div.sk-toggleable__content pre {\n",
       "  margin: 0.2em;\n",
       "  border-radius: 0.25em;\n",
       "  color: var(--sklearn-color-text);\n",
       "  /* unfitted */\n",
       "  background-color: var(--sklearn-color-unfitted-level-0);\n",
       "}\n",
       "\n",
       "#sk-container-id-37 div.sk-toggleable__content.fitted pre {\n",
       "  /* unfitted */\n",
       "  background-color: var(--sklearn-color-fitted-level-0);\n",
       "}\n",
       "\n",
       "#sk-container-id-37 input.sk-toggleable__control:checked~div.sk-toggleable__content {\n",
       "  /* Expand drop-down */\n",
       "  max-height: 200px;\n",
       "  max-width: 100%;\n",
       "  overflow: auto;\n",
       "}\n",
       "\n",
       "#sk-container-id-37 input.sk-toggleable__control:checked~label.sk-toggleable__label-arrow:before {\n",
       "  content: \"▾\";\n",
       "}\n",
       "\n",
       "/* Pipeline/ColumnTransformer-specific style */\n",
       "\n",
       "#sk-container-id-37 div.sk-label input.sk-toggleable__control:checked~label.sk-toggleable__label {\n",
       "  color: var(--sklearn-color-text);\n",
       "  background-color: var(--sklearn-color-unfitted-level-2);\n",
       "}\n",
       "\n",
       "#sk-container-id-37 div.sk-label.fitted input.sk-toggleable__control:checked~label.sk-toggleable__label {\n",
       "  background-color: var(--sklearn-color-fitted-level-2);\n",
       "}\n",
       "\n",
       "/* Estimator-specific style */\n",
       "\n",
       "/* Colorize estimator box */\n",
       "#sk-container-id-37 div.sk-estimator input.sk-toggleable__control:checked~label.sk-toggleable__label {\n",
       "  /* unfitted */\n",
       "  background-color: var(--sklearn-color-unfitted-level-2);\n",
       "}\n",
       "\n",
       "#sk-container-id-37 div.sk-estimator.fitted input.sk-toggleable__control:checked~label.sk-toggleable__label {\n",
       "  /* fitted */\n",
       "  background-color: var(--sklearn-color-fitted-level-2);\n",
       "}\n",
       "\n",
       "#sk-container-id-37 div.sk-label label.sk-toggleable__label,\n",
       "#sk-container-id-37 div.sk-label label {\n",
       "  /* The background is the default theme color */\n",
       "  color: var(--sklearn-color-text-on-default-background);\n",
       "}\n",
       "\n",
       "/* On hover, darken the color of the background */\n",
       "#sk-container-id-37 div.sk-label:hover label.sk-toggleable__label {\n",
       "  color: var(--sklearn-color-text);\n",
       "  background-color: var(--sklearn-color-unfitted-level-2);\n",
       "}\n",
       "\n",
       "/* Label box, darken color on hover, fitted */\n",
       "#sk-container-id-37 div.sk-label.fitted:hover label.sk-toggleable__label.fitted {\n",
       "  color: var(--sklearn-color-text);\n",
       "  background-color: var(--sklearn-color-fitted-level-2);\n",
       "}\n",
       "\n",
       "/* Estimator label */\n",
       "\n",
       "#sk-container-id-37 div.sk-label label {\n",
       "  font-family: monospace;\n",
       "  font-weight: bold;\n",
       "  display: inline-block;\n",
       "  line-height: 1.2em;\n",
       "}\n",
       "\n",
       "#sk-container-id-37 div.sk-label-container {\n",
       "  text-align: center;\n",
       "}\n",
       "\n",
       "/* Estimator-specific */\n",
       "#sk-container-id-37 div.sk-estimator {\n",
       "  font-family: monospace;\n",
       "  border: 1px dotted var(--sklearn-color-border-box);\n",
       "  border-radius: 0.25em;\n",
       "  box-sizing: border-box;\n",
       "  margin-bottom: 0.5em;\n",
       "  /* unfitted */\n",
       "  background-color: var(--sklearn-color-unfitted-level-0);\n",
       "}\n",
       "\n",
       "#sk-container-id-37 div.sk-estimator.fitted {\n",
       "  /* fitted */\n",
       "  background-color: var(--sklearn-color-fitted-level-0);\n",
       "}\n",
       "\n",
       "/* on hover */\n",
       "#sk-container-id-37 div.sk-estimator:hover {\n",
       "  /* unfitted */\n",
       "  background-color: var(--sklearn-color-unfitted-level-2);\n",
       "}\n",
       "\n",
       "#sk-container-id-37 div.sk-estimator.fitted:hover {\n",
       "  /* fitted */\n",
       "  background-color: var(--sklearn-color-fitted-level-2);\n",
       "}\n",
       "\n",
       "/* Specification for estimator info (e.g. \"i\" and \"?\") */\n",
       "\n",
       "/* Common style for \"i\" and \"?\" */\n",
       "\n",
       ".sk-estimator-doc-link,\n",
       "a:link.sk-estimator-doc-link,\n",
       "a:visited.sk-estimator-doc-link {\n",
       "  float: right;\n",
       "  font-size: smaller;\n",
       "  line-height: 1em;\n",
       "  font-family: monospace;\n",
       "  background-color: var(--sklearn-color-background);\n",
       "  border-radius: 1em;\n",
       "  height: 1em;\n",
       "  width: 1em;\n",
       "  text-decoration: none !important;\n",
       "  margin-left: 1ex;\n",
       "  /* unfitted */\n",
       "  border: var(--sklearn-color-unfitted-level-1) 1pt solid;\n",
       "  color: var(--sklearn-color-unfitted-level-1);\n",
       "}\n",
       "\n",
       ".sk-estimator-doc-link.fitted,\n",
       "a:link.sk-estimator-doc-link.fitted,\n",
       "a:visited.sk-estimator-doc-link.fitted {\n",
       "  /* fitted */\n",
       "  border: var(--sklearn-color-fitted-level-1) 1pt solid;\n",
       "  color: var(--sklearn-color-fitted-level-1);\n",
       "}\n",
       "\n",
       "/* On hover */\n",
       "div.sk-estimator:hover .sk-estimator-doc-link:hover,\n",
       ".sk-estimator-doc-link:hover,\n",
       "div.sk-label-container:hover .sk-estimator-doc-link:hover,\n",
       ".sk-estimator-doc-link:hover {\n",
       "  /* unfitted */\n",
       "  background-color: var(--sklearn-color-unfitted-level-3);\n",
       "  color: var(--sklearn-color-background);\n",
       "  text-decoration: none;\n",
       "}\n",
       "\n",
       "div.sk-estimator.fitted:hover .sk-estimator-doc-link.fitted:hover,\n",
       ".sk-estimator-doc-link.fitted:hover,\n",
       "div.sk-label-container:hover .sk-estimator-doc-link.fitted:hover,\n",
       ".sk-estimator-doc-link.fitted:hover {\n",
       "  /* fitted */\n",
       "  background-color: var(--sklearn-color-fitted-level-3);\n",
       "  color: var(--sklearn-color-background);\n",
       "  text-decoration: none;\n",
       "}\n",
       "\n",
       "/* Span, style for the box shown on hovering the info icon */\n",
       ".sk-estimator-doc-link span {\n",
       "  display: none;\n",
       "  z-index: 9999;\n",
       "  position: relative;\n",
       "  font-weight: normal;\n",
       "  right: .2ex;\n",
       "  padding: .5ex;\n",
       "  margin: .5ex;\n",
       "  width: min-content;\n",
       "  min-width: 20ex;\n",
       "  max-width: 50ex;\n",
       "  color: var(--sklearn-color-text);\n",
       "  box-shadow: 2pt 2pt 4pt #999;\n",
       "  /* unfitted */\n",
       "  background: var(--sklearn-color-unfitted-level-0);\n",
       "  border: .5pt solid var(--sklearn-color-unfitted-level-3);\n",
       "}\n",
       "\n",
       ".sk-estimator-doc-link.fitted span {\n",
       "  /* fitted */\n",
       "  background: var(--sklearn-color-fitted-level-0);\n",
       "  border: var(--sklearn-color-fitted-level-3);\n",
       "}\n",
       "\n",
       ".sk-estimator-doc-link:hover span {\n",
       "  display: block;\n",
       "}\n",
       "\n",
       "/* \"?\"-specific style due to the `<a>` HTML tag */\n",
       "\n",
       "#sk-container-id-37 a.estimator_doc_link {\n",
       "  float: right;\n",
       "  font-size: 1rem;\n",
       "  line-height: 1em;\n",
       "  font-family: monospace;\n",
       "  background-color: var(--sklearn-color-background);\n",
       "  border-radius: 1rem;\n",
       "  height: 1rem;\n",
       "  width: 1rem;\n",
       "  text-decoration: none;\n",
       "  /* unfitted */\n",
       "  color: var(--sklearn-color-unfitted-level-1);\n",
       "  border: var(--sklearn-color-unfitted-level-1) 1pt solid;\n",
       "}\n",
       "\n",
       "#sk-container-id-37 a.estimator_doc_link.fitted {\n",
       "  /* fitted */\n",
       "  border: var(--sklearn-color-fitted-level-1) 1pt solid;\n",
       "  color: var(--sklearn-color-fitted-level-1);\n",
       "}\n",
       "\n",
       "/* On hover */\n",
       "#sk-container-id-37 a.estimator_doc_link:hover {\n",
       "  /* unfitted */\n",
       "  background-color: var(--sklearn-color-unfitted-level-3);\n",
       "  color: var(--sklearn-color-background);\n",
       "  text-decoration: none;\n",
       "}\n",
       "\n",
       "#sk-container-id-37 a.estimator_doc_link.fitted:hover {\n",
       "  /* fitted */\n",
       "  background-color: var(--sklearn-color-fitted-level-3);\n",
       "}\n",
       "</style><div id=\"sk-container-id-37\" class=\"sk-top-container\"><div class=\"sk-text-repr-fallback\"><pre>Pipeline(steps=[(&#x27;preprocessor&#x27;,\n",
       "                 ColumnTransformer(transformers=[(&#x27;num&#x27;, SimpleImputer(),\n",
       "                                                  [&#x27;work_year&#x27;, &#x27;salary&#x27;,\n",
       "                                                   &#x27;salary_in_usd&#x27;,\n",
       "                                                   &#x27;job_title_Data Analyst  &#x27;\n",
       "                                                   &#x27;(Remote)&#x27;,\n",
       "                                                   &#x27;job_title_Data Analyst  in &#x27;\n",
       "                                                   &#x27;office&#x27;,\n",
       "                                                   &#x27;job_title_Data Engineer  &#x27;,\n",
       "                                                   &#x27;job_title_Data Engineer  &#x27;\n",
       "                                                   &#x27;(Remote)&#x27;,\n",
       "                                                   &#x27;job_title_Data Engineer  &#x27;\n",
       "                                                   &#x27;in office&#x27;,\n",
       "                                                   &#x27;job_title_Data Scientist  &#x27;,\n",
       "                                                   &#x27;job_title_Data Scientist  &#x27;\n",
       "                                                   &#x27;(Remote)&#x27;,...\n",
       "                                                   &#x27;job_category_ML/AI&#x27;,\n",
       "                                                   &#x27;salary_currency_GBP&#x27;,\n",
       "                                                   &#x27;salary_currency_INR&#x27;,\n",
       "                                                   &#x27;salary_currency_JPY&#x27;,\n",
       "                                                   &#x27;salary_currency_us dolars&#x27;,\n",
       "                                                   &#x27;employee_residence_DE&#x27;,\n",
       "                                                   &#x27;employee_residence_IN&#x27;,\n",
       "                                                   &#x27;employee_residence_JP&#x27;,\n",
       "                                                   &#x27;employee_residence_MX&#x27;,\n",
       "                                                   &#x27;employee_residence_UK&#x27;,\n",
       "                                                   &#x27;employee_residence_US&#x27;, ...]),\n",
       "                                                 (&#x27;cat&#x27;, OneHotEncoder(),\n",
       "                                                  [])])),\n",
       "                (&#x27;classifier&#x27;, RandomForestClassifier(random_state=42))])</pre><b>In a Jupyter environment, please rerun this cell to show the HTML representation or trust the notebook. <br />On GitHub, the HTML representation is unable to render, please try loading this page with nbviewer.org.</b></div><div class=\"sk-container\" hidden><div class=\"sk-item sk-dashed-wrapped\"><div class=\"sk-label-container\"><div class=\"sk-label fitted sk-toggleable\"><input class=\"sk-toggleable__control sk-hidden--visually\" id=\"sk-estimator-id-253\" type=\"checkbox\" ><label for=\"sk-estimator-id-253\" class=\"sk-toggleable__label fitted sk-toggleable__label-arrow fitted\">&nbsp;&nbsp;Pipeline<a class=\"sk-estimator-doc-link fitted\" rel=\"noreferrer\" target=\"_blank\" href=\"https://scikit-learn.org/1.5/modules/generated/sklearn.pipeline.Pipeline.html\">?<span>Documentation for Pipeline</span></a><span class=\"sk-estimator-doc-link fitted\">i<span>Fitted</span></span></label><div class=\"sk-toggleable__content fitted\"><pre>Pipeline(steps=[(&#x27;preprocessor&#x27;,\n",
       "                 ColumnTransformer(transformers=[(&#x27;num&#x27;, SimpleImputer(),\n",
       "                                                  [&#x27;work_year&#x27;, &#x27;salary&#x27;,\n",
       "                                                   &#x27;salary_in_usd&#x27;,\n",
       "                                                   &#x27;job_title_Data Analyst  &#x27;\n",
       "                                                   &#x27;(Remote)&#x27;,\n",
       "                                                   &#x27;job_title_Data Analyst  in &#x27;\n",
       "                                                   &#x27;office&#x27;,\n",
       "                                                   &#x27;job_title_Data Engineer  &#x27;,\n",
       "                                                   &#x27;job_title_Data Engineer  &#x27;\n",
       "                                                   &#x27;(Remote)&#x27;,\n",
       "                                                   &#x27;job_title_Data Engineer  &#x27;\n",
       "                                                   &#x27;in office&#x27;,\n",
       "                                                   &#x27;job_title_Data Scientist  &#x27;,\n",
       "                                                   &#x27;job_title_Data Scientist  &#x27;\n",
       "                                                   &#x27;(Remote)&#x27;,...\n",
       "                                                   &#x27;job_category_ML/AI&#x27;,\n",
       "                                                   &#x27;salary_currency_GBP&#x27;,\n",
       "                                                   &#x27;salary_currency_INR&#x27;,\n",
       "                                                   &#x27;salary_currency_JPY&#x27;,\n",
       "                                                   &#x27;salary_currency_us dolars&#x27;,\n",
       "                                                   &#x27;employee_residence_DE&#x27;,\n",
       "                                                   &#x27;employee_residence_IN&#x27;,\n",
       "                                                   &#x27;employee_residence_JP&#x27;,\n",
       "                                                   &#x27;employee_residence_MX&#x27;,\n",
       "                                                   &#x27;employee_residence_UK&#x27;,\n",
       "                                                   &#x27;employee_residence_US&#x27;, ...]),\n",
       "                                                 (&#x27;cat&#x27;, OneHotEncoder(),\n",
       "                                                  [])])),\n",
       "                (&#x27;classifier&#x27;, RandomForestClassifier(random_state=42))])</pre></div> </div></div><div class=\"sk-serial\"><div class=\"sk-item sk-dashed-wrapped\"><div class=\"sk-label-container\"><div class=\"sk-label fitted sk-toggleable\"><input class=\"sk-toggleable__control sk-hidden--visually\" id=\"sk-estimator-id-254\" type=\"checkbox\" ><label for=\"sk-estimator-id-254\" class=\"sk-toggleable__label fitted sk-toggleable__label-arrow fitted\">&nbsp;preprocessor: ColumnTransformer<a class=\"sk-estimator-doc-link fitted\" rel=\"noreferrer\" target=\"_blank\" href=\"https://scikit-learn.org/1.5/modules/generated/sklearn.compose.ColumnTransformer.html\">?<span>Documentation for preprocessor: ColumnTransformer</span></a></label><div class=\"sk-toggleable__content fitted\"><pre>ColumnTransformer(transformers=[(&#x27;num&#x27;, SimpleImputer(),\n",
       "                                 [&#x27;work_year&#x27;, &#x27;salary&#x27;, &#x27;salary_in_usd&#x27;,\n",
       "                                  &#x27;job_title_Data Analyst  (Remote)&#x27;,\n",
       "                                  &#x27;job_title_Data Analyst  in office&#x27;,\n",
       "                                  &#x27;job_title_Data Engineer  &#x27;,\n",
       "                                  &#x27;job_title_Data Engineer  (Remote)&#x27;,\n",
       "                                  &#x27;job_title_Data Engineer  in office&#x27;,\n",
       "                                  &#x27;job_title_Data Scientist  &#x27;,\n",
       "                                  &#x27;job_title_Data Scientist  (Remote)&#x27;,\n",
       "                                  &#x27;job_title_Data Scientist  in office&#x27;,\n",
       "                                  &#x27;job_tit...\n",
       "                                  &#x27;job_title_Statistician  in office&#x27;,\n",
       "                                  &#x27;job_category_Data Science&#x27;,\n",
       "                                  &#x27;job_category_Engineering&#x27;,\n",
       "                                  &#x27;job_category_ML/AI&#x27;, &#x27;salary_currency_GBP&#x27;,\n",
       "                                  &#x27;salary_currency_INR&#x27;, &#x27;salary_currency_JPY&#x27;,\n",
       "                                  &#x27;salary_currency_us dolars&#x27;,\n",
       "                                  &#x27;employee_residence_DE&#x27;,\n",
       "                                  &#x27;employee_residence_IN&#x27;,\n",
       "                                  &#x27;employee_residence_JP&#x27;,\n",
       "                                  &#x27;employee_residence_MX&#x27;,\n",
       "                                  &#x27;employee_residence_UK&#x27;,\n",
       "                                  &#x27;employee_residence_US&#x27;, ...]),\n",
       "                                (&#x27;cat&#x27;, OneHotEncoder(), [])])</pre></div> </div></div><div class=\"sk-parallel\"><div class=\"sk-parallel-item\"><div class=\"sk-item\"><div class=\"sk-label-container\"><div class=\"sk-label fitted sk-toggleable\"><input class=\"sk-toggleable__control sk-hidden--visually\" id=\"sk-estimator-id-255\" type=\"checkbox\" ><label for=\"sk-estimator-id-255\" class=\"sk-toggleable__label fitted sk-toggleable__label-arrow fitted\">num</label><div class=\"sk-toggleable__content fitted\"><pre>[&#x27;work_year&#x27;, &#x27;salary&#x27;, &#x27;salary_in_usd&#x27;, &#x27;job_title_Data Analyst  (Remote)&#x27;, &#x27;job_title_Data Analyst  in office&#x27;, &#x27;job_title_Data Engineer  &#x27;, &#x27;job_title_Data Engineer  (Remote)&#x27;, &#x27;job_title_Data Engineer  in office&#x27;, &#x27;job_title_Data Scientist  &#x27;, &#x27;job_title_Data Scientist  (Remote)&#x27;, &#x27;job_title_Data Scientist  in office&#x27;, &#x27;job_title_Machine Learning Engineer  &#x27;, &#x27;job_title_Machine Learning Engineer  (Remote)&#x27;, &#x27;job_title_Machine Learning Engineer  in office&#x27;, &#x27;job_title_Statistician  &#x27;, &#x27;job_title_Statistician  (Remote)&#x27;, &#x27;job_title_Statistician  in office&#x27;, &#x27;job_category_Data Science&#x27;, &#x27;job_category_Engineering&#x27;, &#x27;job_category_ML/AI&#x27;, &#x27;salary_currency_GBP&#x27;, &#x27;salary_currency_INR&#x27;, &#x27;salary_currency_JPY&#x27;, &#x27;salary_currency_us dolars&#x27;, &#x27;employee_residence_DE&#x27;, &#x27;employee_residence_IN&#x27;, &#x27;employee_residence_JP&#x27;, &#x27;employee_residence_MX&#x27;, &#x27;employee_residence_UK&#x27;, &#x27;employee_residence_US&#x27;, &#x27;experience_level_EX&#x27;, &#x27;experience_level_MI&#x27;, &#x27;experience_level_SE&#x27;, &#x27;employment_type_FL&#x27;, &#x27;employment_type_FT&#x27;, &#x27;employment_type_PT&#x27;, &#x27;work_setting_In-person&#x27;, &#x27;work_setting_Remote&#x27;, &#x27;company_location_DE&#x27;, &#x27;company_location_IN&#x27;, &#x27;company_location_JP&#x27;, &#x27;company_location_MX&#x27;, &#x27;company_location_UK&#x27;, &#x27;company_location_US&#x27;, &#x27;company_size_M&#x27;, &#x27;company_size_S&#x27;, &#x27;salary_category_Low&#x27;, &#x27;salary_category_Medium&#x27;, &#x27;salary_category_Very High&#x27;]</pre></div> </div></div><div class=\"sk-serial\"><div class=\"sk-item\"><div class=\"sk-estimator fitted sk-toggleable\"><input class=\"sk-toggleable__control sk-hidden--visually\" id=\"sk-estimator-id-256\" type=\"checkbox\" ><label for=\"sk-estimator-id-256\" class=\"sk-toggleable__label fitted sk-toggleable__label-arrow fitted\">&nbsp;SimpleImputer<a class=\"sk-estimator-doc-link fitted\" rel=\"noreferrer\" target=\"_blank\" href=\"https://scikit-learn.org/1.5/modules/generated/sklearn.impute.SimpleImputer.html\">?<span>Documentation for SimpleImputer</span></a></label><div class=\"sk-toggleable__content fitted\"><pre>SimpleImputer()</pre></div> </div></div></div></div></div><div class=\"sk-parallel-item\"><div class=\"sk-item\"><div class=\"sk-label-container\"><div class=\"sk-label fitted sk-toggleable\"><input class=\"sk-toggleable__control sk-hidden--visually\" id=\"sk-estimator-id-257\" type=\"checkbox\" ><label for=\"sk-estimator-id-257\" class=\"sk-toggleable__label fitted sk-toggleable__label-arrow fitted\">cat</label><div class=\"sk-toggleable__content fitted\"><pre>[]</pre></div> </div></div><div class=\"sk-serial\"><div class=\"sk-item\"><div class=\"sk-estimator fitted sk-toggleable\"><input class=\"sk-toggleable__control sk-hidden--visually\" id=\"sk-estimator-id-258\" type=\"checkbox\" ><label for=\"sk-estimator-id-258\" class=\"sk-toggleable__label fitted sk-toggleable__label-arrow fitted\">&nbsp;OneHotEncoder<a class=\"sk-estimator-doc-link fitted\" rel=\"noreferrer\" target=\"_blank\" href=\"https://scikit-learn.org/1.5/modules/generated/sklearn.preprocessing.OneHotEncoder.html\">?<span>Documentation for OneHotEncoder</span></a></label><div class=\"sk-toggleable__content fitted\"><pre>OneHotEncoder()</pre></div> </div></div></div></div></div></div></div><div class=\"sk-item\"><div class=\"sk-estimator fitted sk-toggleable\"><input class=\"sk-toggleable__control sk-hidden--visually\" id=\"sk-estimator-id-259\" type=\"checkbox\" ><label for=\"sk-estimator-id-259\" class=\"sk-toggleable__label fitted sk-toggleable__label-arrow fitted\">&nbsp;RandomForestClassifier<a class=\"sk-estimator-doc-link fitted\" rel=\"noreferrer\" target=\"_blank\" href=\"https://scikit-learn.org/1.5/modules/generated/sklearn.ensemble.RandomForestClassifier.html\">?<span>Documentation for RandomForestClassifier</span></a></label><div class=\"sk-toggleable__content fitted\"><pre>RandomForestClassifier(random_state=42)</pre></div> </div></div></div></div></div></div>"
      ],
      "text/plain": [
       "Pipeline(steps=[('preprocessor',\n",
       "                 ColumnTransformer(transformers=[('num', SimpleImputer(),\n",
       "                                                  ['work_year', 'salary',\n",
       "                                                   'salary_in_usd',\n",
       "                                                   'job_title_Data Analyst  '\n",
       "                                                   '(Remote)',\n",
       "                                                   'job_title_Data Analyst  in '\n",
       "                                                   'office',\n",
       "                                                   'job_title_Data Engineer  ',\n",
       "                                                   'job_title_Data Engineer  '\n",
       "                                                   '(Remote)',\n",
       "                                                   'job_title_Data Engineer  '\n",
       "                                                   'in office',\n",
       "                                                   'job_title_Data Scientist  ',\n",
       "                                                   'job_title_Data Scientist  '\n",
       "                                                   '(Remote)',...\n",
       "                                                   'job_category_ML/AI',\n",
       "                                                   'salary_currency_GBP',\n",
       "                                                   'salary_currency_INR',\n",
       "                                                   'salary_currency_JPY',\n",
       "                                                   'salary_currency_us dolars',\n",
       "                                                   'employee_residence_DE',\n",
       "                                                   'employee_residence_IN',\n",
       "                                                   'employee_residence_JP',\n",
       "                                                   'employee_residence_MX',\n",
       "                                                   'employee_residence_UK',\n",
       "                                                   'employee_residence_US', ...]),\n",
       "                                                 ('cat', OneHotEncoder(),\n",
       "                                                  [])])),\n",
       "                ('classifier', RandomForestClassifier(random_state=42))])"
      ]
     },
     "execution_count": 1482,
     "metadata": {},
     "output_type": "execute_result"
    }
   ],
   "source": [
    "# Membuat pipeline dengan preprocessing dan model serta melatih model menggunakan data latih\n",
    "pipeline = Pipeline(steps=[\n",
    "    ('preprocessor', preprocessor),\n",
    "    ('classifier', RandomForestClassifier(random_state=42))\n",
    "])\n",
    "\n",
    "pipeline.fit(X_train, y_train)"
   ]
  },
  {
   "cell_type": "markdown",
   "metadata": {
    "id": "seYoHNY3XU1y"
   },
   "source": [
    "Tulis narasi atau penjelasan algoritma yang Anda gunakan."
   ]
  },
  {
   "cell_type": "markdown",
   "metadata": {
    "id": "ergzChZFEL-O"
   },
   "source": [
    "## **b. Evaluasi Model Klasifikasi**"
   ]
  },
  {
   "cell_type": "markdown",
   "metadata": {
    "id": "zOm68u-7NpLT"
   },
   "source": [
    "Berikut adalah **rekomendasi** tahapannya.\n",
    "1. Lakukan prediksi menggunakan data uji.\n",
    "2. Hitung metrik evaluasi seperti Accuracy dan F1-Score (Opsional: Precision dan Recall).\n",
    "3. Buat confusion matrix untuk melihat detail prediksi benar dan salah."
   ]
  },
  {
   "cell_type": "code",
   "execution_count": 1486,
   "metadata": {},
   "outputs": [
    {
     "name": "stdout",
     "output_type": "stream",
     "text": [
      "RandomForestClassifier\n",
      "Accuracy Score: 1.00\n",
      "F1-Score: 1.00\n",
      "Model Confusion Matrix:\n",
      "[[131   0   0   0   0]\n",
      " [  0 227   0   0   0]\n",
      " [  0   0 125   0   0]\n",
      " [  0   0   0 412   0]\n",
      " [  0   0   0   0 105]]\n",
      "--------------------------------------------------\n",
      "LogisticRegression\n",
      "Accuracy Score: 0.12\n",
      "F1-Score: 0.06\n",
      "Model Confusion Matrix:\n",
      "[[ 25   0  85   0  21]\n",
      " [ 23   0 173   0  31]\n",
      " [ 25   0  69   0  31]\n",
      " [ 43   0 303   0  66]\n",
      " [ 25   0  59   0  21]]\n",
      "--------------------------------------------------\n",
      "SVC\n",
      "Accuracy Score: 0.12\n",
      "F1-Score: 0.03\n",
      "Model Confusion Matrix:\n",
      "[[  0   0 123   0   8]\n",
      " [  0   0 219   0   8]\n",
      " [  0   0 118   0   7]\n",
      " [  0   0 399   0  13]\n",
      " [  0   0 102   0   3]]\n",
      "--------------------------------------------------\n"
     ]
    }
   ],
   "source": [
    "# Function to evaluate models\n",
    "def evaluate_model(model, X_train, X_test, y_train, y_test):\n",
    "    model.fit(X_train, y_train)\n",
    "    y_pred = model.predict(X_test)\n",
    "    \n",
    "    accuracy = accuracy_score(y_test, y_pred)\n",
    "    f1 = f1_score(y_test, y_pred, average='weighted')  # Use 'weighted' for multi-class F1 score\n",
    "    conf_matrix = confusion_matrix(y_test, y_pred)\n",
    "    \n",
    "    print(f\"{model.__class__.__name__}\")\n",
    "    print(f'Accuracy Score: {accuracy:.2f}')\n",
    "    print(f'F1-Score: {f1:.2f}')\n",
    "    print('Model Confusion Matrix:')\n",
    "    print(conf_matrix)\n",
    "    print('-' * 50)\n",
    "\n",
    "# Initialize models\n",
    "models = [\n",
    "    RandomForestClassifier(),\n",
    "    LogisticRegression(solver='liblinear', max_iter=1000),\n",
    "    SVC()\n",
    "]\n",
    "\n",
    "# Evaluate models\n",
    "for model in models:\n",
    "    evaluate_model(model, X_train, X_test, y_train, y_test)"
   ]
  },
  {
   "cell_type": "markdown",
   "metadata": {
    "id": "H4_9OwrsXZlz"
   },
   "source": [
    "Berikut adalah hasil evaluasi model yang telah Anda berikan dalam versi Bahasa Indonesia:\n",
    "\n",
    "---\n",
    "\n",
    "### **Hasil Evaluasi**\n",
    "\n",
    "#### **Random Forest Classifier**\n",
    "- **Accuracy Score**: 1.00\n",
    "- **F1-Score**: 1.00\n",
    "- **Model Confusion Matrix**:\n",
    "  ```\n",
    "  [[131   0   0   0   0]\n",
    "   [  0 227   0   0   0]\n",
    "   [  0   0 125   0   0]\n",
    "   [  0   0   0 412   0]\n",
    "   [  0   0   0   0 105]]\n",
    "  ```\n",
    "-  Model Random Forest menunjukkan kinerja yang sangat baik dengan mendapatkan akurasi dan F1-score sempurna, tanpa ada kesalahan klasifikasi pada kelas mana pun.\n",
    "\n",
    "---\n",
    "\n",
    "#### **Logistic Regression**\n",
    "- **Accuracy Score**: 0.12\n",
    "- **F1-Score**: 0.06\n",
    "- **Model Confusion Matrix**:\n",
    "  ```\n",
    "  [[ 25   0  85   0  21]\n",
    "   [ 23   0 173   0  31]\n",
    "   [ 25   0  69   0  31]\n",
    "   [ 43   0 303   0  66]\n",
    "   [ 25   0  59   0  21]]\n",
    "  ```\n",
    "-  Model Logistic Regression menunjukkan performa yang sangat buruk dengan akurasi dan F1-score yang sangat rendah. Confusion matrix menunjukkan banyak kesalahan klasifikasi, yang mengindikasikan bahwa model ini kesulitan membedakan kelas-kelas dengan baik.\n",
    "\n",
    "---\n",
    "\n",
    "#### **Support Vector Classifier (SVC)**\n",
    "- **Accuracy Score**: 0.12\n",
    "- **F1-Score**: 0.03\n",
    "- **Model Confusion Matrix**:\n",
    "  ```\n",
    "  [[  0   0 123   0   8]\n",
    "   [  0   0 219   0   8]\n",
    "   [  0   0 118   0   7]\n",
    "   [  0   0 399   0  13]\n",
    "   [  0   0 102   0   3]]\n",
    "  ```\n",
    "- Model SVC juga menunjukkan performa yang buruk, mirip dengan Logistic Regression. Akurasi dan F1-score yang sangat rendah serta kesalahan klasifikasi yang signifikan terlihat pada confusion matrix.\n",
    "\n",
    "---\n",
    "\n",
    "### **Kesimpulan**\n",
    "1. **Random Forest**: Model ini merupakan model dengan kinerja terbaik di antara yang lainnya.\n",
    "2. **Logistic Regression dan SVC**: Kedua model ini mengalami kesulitan dalam klasifikasi, dengan akurasi dan F1-score yang rendah. Model-model ini tidak dapat menangkap pola yang ada dalam data dengan baik."
   ]
  },
  {
   "cell_type": "markdown",
   "metadata": {
    "id": "ph9yIYDXEPuB"
   },
   "source": [
    "## **c. Tuning Model Klasifikasi (Optional)**"
   ]
  },
  {
   "cell_type": "markdown",
   "metadata": {
    "id": "-Bikx3LINv5e"
   },
   "source": [
    "Gunakan GridSearchCV, RandomizedSearchCV, atau metode lainnya untuk mencari kombinasi hyperparameter terbaik"
   ]
  },
  {
   "cell_type": "code",
   "execution_count": 1490,
   "metadata": {
    "id": "winbFzb8NL95"
   },
   "outputs": [
    {
     "name": "stdout",
     "output_type": "stream",
     "text": [
      "Best Parameters: {'max_depth': None, 'min_samples_leaf': 1, 'min_samples_split': 2, 'n_estimators': 100}\n"
     ]
    }
   ],
   "source": [
    "# Tuning Model\n",
    "param_grid = {\n",
    "    'n_estimators': [100, 200, 300],\n",
    "    'max_depth': [None, 10, 20, 30],\n",
    "    'min_samples_split': [2, 5, 10],\n",
    "    'min_samples_leaf': [1, 2, 4]\n",
    "}\n",
    "\n",
    "grid_search = GridSearchCV(\n",
    "    estimator=RandomForestClassifier(random_state=42),\n",
    "    param_grid=param_grid,\n",
    "    scoring='f1_weighted',\n",
    "    cv=5,\n",
    "    n_jobs=-1\n",
    ")\n",
    "\n",
    "grid_search.fit(X_train, y_train)\n",
    "\n",
    "best_model = grid_search.best_estimator_\n",
    "print(\"Best Parameters:\", grid_search.best_params_)"
   ]
  },
  {
   "cell_type": "markdown",
   "metadata": {
    "id": "hE7pqlEPEYzI"
   },
   "source": [
    "## **d. Evaluasi Model Klasifikasi setelah Tuning (Optional)**"
   ]
  },
  {
   "cell_type": "markdown",
   "metadata": {
    "id": "feaPESoeN0zz"
   },
   "source": [
    "Berikut adalah rekomendasi tahapannya.\n",
    "1. Gunakan model dengan hyperparameter terbaik.\n",
    "2. Hitung ulang metrik evaluasi untuk melihat apakah ada peningkatan performa."
   ]
  },
  {
   "cell_type": "code",
   "execution_count": 1493,
   "metadata": {
    "id": "HTXZRvEeNMb1"
   },
   "outputs": [
    {
     "name": "stdout",
     "output_type": "stream",
     "text": [
      "Accuracy setelah tuning: 1.00\n",
      "F1-Score setelah tuning: 1.00\n",
      "Confusion Matrix setelah tuning:\n",
      "[[131   0   0   0   0]\n",
      " [  0 227   0   0   0]\n",
      " [  0   0 125   0   0]\n",
      " [  0   0   0 412   0]\n",
      " [  0   0   0   0 105]]\n"
     ]
    }
   ],
   "source": [
    "# Prediksi menggunakan model terbaik\n",
    "y_pred_tuned = best_model.predict(X_test)\n",
    "\n",
    "accuracy_tuned = accuracy_score(y_test, y_pred_tuned)\n",
    "f1_tuned = f1_score(y_test, y_pred_tuned, average='weighted')\n",
    "conf_matrix_tuned = confusion_matrix(y_test, y_pred_tuned)\n",
    "\n",
    "print(f'Accuracy setelah tuning: {accuracy_tuned:.2f}')\n",
    "print(f'F1-Score setelah tuning: {f1_tuned:.2f}')\n",
    "print('Confusion Matrix setelah tuning:')\n",
    "print(conf_matrix_tuned)"
   ]
  },
  {
   "cell_type": "markdown",
   "metadata": {
    "id": "ZRsOdm4uEgAW"
   },
   "source": [
    "## **e. Analisis Hasil Evaluasi Model Klasifikasi**"
   ]
  },
  {
   "cell_type": "markdown",
   "metadata": {
    "id": "Hm3BhSi6N4_l"
   },
   "source": [
    "Berikut adalah **rekomendasi** tahapannya.\n",
    "1. Bandingkan hasil evaluasi sebelum dan setelah tuning (jika dilakukan).\n",
    "2. Identifikasi kelemahan model, seperti:\n",
    "  - Precision atau Recall rendah untuk kelas tertentu.\n",
    "  - Apakah model mengalami overfitting atau underfitting?\n",
    "3. Berikan rekomendasi tindakan lanjutan, seperti mengumpulkan data tambahan atau mencoba algoritma lain jika hasil belum memuaskan."
   ]
  },
  {
   "cell_type": "code",
   "execution_count": 1496,
   "metadata": {},
   "outputs": [
    {
     "name": "stdout",
     "output_type": "stream",
     "text": [
      "              precision    recall  f1-score   support\n",
      "\n",
      "           0       1.00      1.00      1.00       131\n",
      "           1       1.00      1.00      1.00       227\n",
      "           2       1.00      1.00      1.00       125\n",
      "           3       1.00      1.00      1.00       412\n",
      "           4       1.00      1.00      1.00       105\n",
      "\n",
      "    accuracy                           1.00      1000\n",
      "   macro avg       1.00      1.00      1.00      1000\n",
      "weighted avg       1.00      1.00      1.00      1000\n",
      "\n"
     ]
    }
   ],
   "source": [
    "from sklearn.metrics import classification_report\n",
    "print(classification_report(y_test, y_pred_tuned))"
   ]
  },
  {
   "cell_type": "markdown",
   "metadata": {},
   "source": [
    "**Rekomendasi Tahapan Evaluasi Model:**\n",
    "\n",
    "1. **Bandingkan Evaluasi Sebelum dan Setelah Tuning**:\n",
    "   - Jika tuning belum dilakukan, lakukan dengan **GridSearchCV** atau **RandomizedSearchCV** untuk optimasi hyperparameter.\n",
    "\n",
    "2. **Identifikasi Kelemahan Model**:\n",
    "   - **Precision dan Recall**: Semua kelas memiliki hasil **1.00**, jadi tidak ada kelemahan teridentifikasi.\n",
    "   - **Overfitting/Underfitting**: Jika hasil pada data uji sangat baik (100%), periksa apakah model overfit. Bandingkan kinerja di data pelatihan dan validasi.\n",
    "\n",
    "3. **Rekomendasi Tindakan Lanjutan**:\n",
    "   - **Jika Overfitting**: Tambahkan regularisasi, kurangi kompleksitas model, atau kumpulkan lebih banyak data.\n",
    "   - **Jika Underfitting**: Gunakan model lebih kompleks, tambah fitur baru, atau perbaiki preprocessing data.\n",
    "   - **Jika Model Belum Memuaskan**: Coba algoritma alternatif (XGBoost, LightGBM) atau metode ensemble (bagging, boosting).\n",
    "\n",
    "4. **Evaluasi dengan Data Nyata**:\n",
    "   - Uji model pada data nyata untuk memastikan kinerja dan hindari bias yang di sebabkan oleh class imbalance."
   ]
  }
 ],
 "metadata": {
  "colab": {
   "provenance": []
  },
  "kernelspec": {
   "display_name": "Python 3 (ipykernel)",
   "language": "python",
   "name": "python3"
  },
  "language_info": {
   "codemirror_mode": {
    "name": "ipython",
    "version": 3
   },
   "file_extension": ".py",
   "mimetype": "text/x-python",
   "name": "python",
   "nbconvert_exporter": "python",
   "pygments_lexer": "ipython3",
   "version": "3.12.7"
  }
 },
 "nbformat": 4,
 "nbformat_minor": 4
}
